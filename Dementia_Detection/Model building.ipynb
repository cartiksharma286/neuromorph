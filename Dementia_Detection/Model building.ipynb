{
 "cells": [
  {
   "cell_type": "markdown",
   "metadata": {},
   "source": [
    "\n",
    "#### <span style=\"color:Blue;font-size:1.4em;\"><b>LOGISTIC REGRESSION</b></span> "
   ]
  },
  {
   "cell_type": "code",
   "execution_count": 88,
   "metadata": {},
   "outputs": [
    {
     "data": {
      "text/plain": [
       "0    190\n",
       "1    183\n",
       "Name: Group, dtype: int64"
      ]
     },
     "execution_count": 88,
     "metadata": {},
     "output_type": "execute_result"
    }
   ],
   "source": [
    "df[\"Group\"].value_counts()"
   ]
  },
  {
   "cell_type": "markdown",
   "metadata": {},
   "source": [
    "<b>The dataset is balanced</b>"
   ]
  },
  {
   "cell_type": "code",
   "execution_count": 89,
   "metadata": {},
   "outputs": [],
   "source": [
    "X=df.drop([\"Group\"],axis=1)\n",
    "y=df[\"Group\"]"
   ]
  },
  {
   "cell_type": "code",
   "execution_count": 90,
   "metadata": {},
   "outputs": [
    {
     "name": "stdout",
     "output_type": "stream",
     "text": [
      "Optimization terminated successfully.\n",
      "         Current function value: 0.128372\n",
      "         Iterations 14\n"
     ]
    },
    {
     "data": {
      "text/html": [
       "<table class=\"simpletable\">\n",
       "<caption>Logit Regression Results</caption>\n",
       "<tr>\n",
       "  <th>Dep. Variable:</th>         <td>Group</td>      <th>  No. Observations:  </th>  <td>   261</td>  \n",
       "</tr>\n",
       "<tr>\n",
       "  <th>Model:</th>                 <td>Logit</td>      <th>  Df Residuals:      </th>  <td>   251</td>  \n",
       "</tr>\n",
       "<tr>\n",
       "  <th>Method:</th>                 <td>MLE</td>       <th>  Df Model:          </th>  <td>     9</td>  \n",
       "</tr>\n",
       "<tr>\n",
       "  <th>Date:</th>            <td>Sun, 04 Apr 2021</td> <th>  Pseudo R-squ.:     </th>  <td>0.8147</td>  \n",
       "</tr>\n",
       "<tr>\n",
       "  <th>Time:</th>                <td>12:18:03</td>     <th>  Log-Likelihood:    </th> <td> -33.505</td> \n",
       "</tr>\n",
       "<tr>\n",
       "  <th>converged:</th>             <td>True</td>       <th>  LL-Null:           </th> <td> -180.86</td> \n",
       "</tr>\n",
       "<tr>\n",
       "  <th>Covariance Type:</th>     <td>nonrobust</td>    <th>  LLR p-value:       </th> <td>3.444e-58</td>\n",
       "</tr>\n",
       "</table>\n",
       "<table class=\"simpletable\">\n",
       "<tr>\n",
       "    <td></td>       <th>coef</th>     <th>std err</th>      <th>z</th>      <th>P>|z|</th>  <th>[0.025</th>    <th>0.975]</th>  \n",
       "</tr>\n",
       "<tr>\n",
       "  <th>const</th> <td>  133.2042</td> <td>   64.348</td> <td>    2.070</td> <td> 0.038</td> <td>    7.085</td> <td>  259.323</td>\n",
       "</tr>\n",
       "<tr>\n",
       "  <th>M/F</th>   <td>   -2.4664</td> <td>    1.030</td> <td>   -2.394</td> <td> 0.017</td> <td>   -4.486</td> <td>   -0.447</td>\n",
       "</tr>\n",
       "<tr>\n",
       "  <th>Age</th>   <td>   -0.0491</td> <td>    0.067</td> <td>   -0.733</td> <td> 0.463</td> <td>   -0.180</td> <td>    0.082</td>\n",
       "</tr>\n",
       "<tr>\n",
       "  <th>EDUC</th>  <td>   -0.1400</td> <td>    0.200</td> <td>   -0.700</td> <td> 0.484</td> <td>   -0.532</td> <td>    0.252</td>\n",
       "</tr>\n",
       "<tr>\n",
       "  <th>SES</th>   <td>   -1.1414</td> <td>    0.497</td> <td>   -2.297</td> <td> 0.022</td> <td>   -2.116</td> <td>   -0.167</td>\n",
       "</tr>\n",
       "<tr>\n",
       "  <th>eTIV</th>  <td>   -0.0381</td> <td>    0.020</td> <td>   -1.894</td> <td> 0.058</td> <td>   -0.078</td> <td>    0.001</td>\n",
       "</tr>\n",
       "<tr>\n",
       "  <th>nWBV</th>  <td>  -23.0986</td> <td>   15.477</td> <td>   -1.492</td> <td> 0.136</td> <td>  -53.432</td> <td>    7.235</td>\n",
       "</tr>\n",
       "<tr>\n",
       "  <th>ASF</th>   <td>  -32.0922</td> <td>   23.048</td> <td>   -1.392</td> <td> 0.164</td> <td>  -77.265</td> <td>   13.081</td>\n",
       "</tr>\n",
       "<tr>\n",
       "  <th>MMSE</th>  <td>   -2.1685</td> <td>    9.821</td> <td>   -0.221</td> <td> 0.825</td> <td>  -21.418</td> <td>   17.081</td>\n",
       "</tr>\n",
       "<tr>\n",
       "  <th>CDR</th>   <td>   -9.9180</td> <td>    2.307</td> <td>   -4.299</td> <td> 0.000</td> <td>  -14.440</td> <td>   -5.396</td>\n",
       "</tr>\n",
       "</table><br/><br/>Possibly complete quasi-separation: A fraction 0.21 of observations can be<br/>perfectly predicted. This might indicate that there is complete<br/>quasi-separation. In this case some parameters will not be identified."
      ],
      "text/plain": [
       "<class 'statsmodels.iolib.summary.Summary'>\n",
       "\"\"\"\n",
       "                           Logit Regression Results                           \n",
       "==============================================================================\n",
       "Dep. Variable:                  Group   No. Observations:                  261\n",
       "Model:                          Logit   Df Residuals:                      251\n",
       "Method:                           MLE   Df Model:                            9\n",
       "Date:                Sun, 04 Apr 2021   Pseudo R-squ.:                  0.8147\n",
       "Time:                        12:18:03   Log-Likelihood:                -33.505\n",
       "converged:                       True   LL-Null:                       -180.86\n",
       "Covariance Type:            nonrobust   LLR p-value:                 3.444e-58\n",
       "==============================================================================\n",
       "                 coef    std err          z      P>|z|      [0.025      0.975]\n",
       "------------------------------------------------------------------------------\n",
       "const        133.2042     64.348      2.070      0.038       7.085     259.323\n",
       "M/F           -2.4664      1.030     -2.394      0.017      -4.486      -0.447\n",
       "Age           -0.0491      0.067     -0.733      0.463      -0.180       0.082\n",
       "EDUC          -0.1400      0.200     -0.700      0.484      -0.532       0.252\n",
       "SES           -1.1414      0.497     -2.297      0.022      -2.116      -0.167\n",
       "eTIV          -0.0381      0.020     -1.894      0.058      -0.078       0.001\n",
       "nWBV         -23.0986     15.477     -1.492      0.136     -53.432       7.235\n",
       "ASF          -32.0922     23.048     -1.392      0.164     -77.265      13.081\n",
       "MMSE          -2.1685      9.821     -0.221      0.825     -21.418      17.081\n",
       "CDR           -9.9180      2.307     -4.299      0.000     -14.440      -5.396\n",
       "==============================================================================\n",
       "\n",
       "Possibly complete quasi-separation: A fraction 0.21 of observations can be\n",
       "perfectly predicted. This might indicate that there is complete\n",
       "quasi-separation. In this case some parameters will not be identified.\n",
       "\"\"\""
      ]
     },
     "execution_count": 90,
     "metadata": {},
     "output_type": "execute_result"
    }
   ],
   "source": [
    "X=sm.add_constant(X)\n",
    "X_train,X_test,y_train,y_test=train_test_split(X,y,test_size=0.3)\n",
    "logreg=sm.Logit(y_train,X_train).fit()\n",
    "logreg.summary()"
   ]
  },
  {
   "cell_type": "code",
   "execution_count": 91,
   "metadata": {},
   "outputs": [],
   "source": [
    "y_pred=logreg.predict(X_test)"
   ]
  },
  {
   "cell_type": "code",
   "execution_count": 92,
   "metadata": {},
   "outputs": [],
   "source": [
    "y_pred=[0 if i<0.5 else 1 for i in y_pred]"
   ]
  },
  {
   "cell_type": "code",
   "execution_count": 93,
   "metadata": {},
   "outputs": [],
   "source": [
    "cm = confusion_matrix(y_pred,y_test)\n",
    "TP=cm[0,0]\n",
    "TN=cm[1,1]\n",
    "FP=cm[1,0]\n",
    "FN=cm[0,1]\n",
    "\n",
    "acc = (TN+TP)/(TN+FP+TP+FN)\n",
    "precision = TP / (TP+FP)\n",
    "recall = TP / (TP+FN)\n",
    "specificity = TN / (TN+FP)\n",
    "f1_score = 2*((precision*recall)/(precision+recall))"
   ]
  },
  {
   "cell_type": "markdown",
   "metadata": {},
   "source": [
    "\n",
    "### <span style=\"color:blue;font-size:1.4em;\"><b> Classification Report</b> </span> "
   ]
  },
  {
   "cell_type": "code",
   "execution_count": 94,
   "metadata": {},
   "outputs": [
    {
     "name": "stdout",
     "output_type": "stream",
     "text": [
      "              precision    recall  f1-score   support\n",
      "\n",
      "           0       0.90      0.98      0.94        62\n",
      "           1       0.98      0.86      0.91        50\n",
      "\n",
      "    accuracy                           0.93       112\n",
      "   macro avg       0.94      0.92      0.93       112\n",
      "weighted avg       0.93      0.93      0.93       112\n",
      "\n"
     ]
    }
   ],
   "source": [
    "cm=classification_report(y_test,y_pred)\n",
    "print(cm)"
   ]
  },
  {
   "cell_type": "code",
   "execution_count": 96,
   "metadata": {},
   "outputs": [
    {
     "data": {
      "text/html": [
       "<div>\n",
       "<style scoped>\n",
       "    .dataframe tbody tr th:only-of-type {\n",
       "        vertical-align: middle;\n",
       "    }\n",
       "\n",
       "    .dataframe tbody tr th {\n",
       "        vertical-align: top;\n",
       "    }\n",
       "\n",
       "    .dataframe thead th {\n",
       "        text-align: right;\n",
       "    }\n",
       "</style>\n",
       "<table border=\"1\" class=\"dataframe\">\n",
       "  <thead>\n",
       "    <tr style=\"text-align: right;\">\n",
       "      <th></th>\n",
       "      <th>Model_Name</th>\n",
       "      <th>Accuracy</th>\n",
       "      <th>AUC Score</th>\n",
       "      <th>Precision</th>\n",
       "      <th>Recall</th>\n",
       "      <th>F1-Score</th>\n",
       "    </tr>\n",
       "  </thead>\n",
       "  <tbody>\n",
       "    <tr>\n",
       "      <td>0</td>\n",
       "      <td>Logistic Regression</td>\n",
       "      <td>0.928571</td>\n",
       "      <td>0.921935</td>\n",
       "      <td>0.983871</td>\n",
       "      <td>0.897059</td>\n",
       "      <td>0.938462</td>\n",
       "    </tr>\n",
       "  </tbody>\n",
       "</table>\n",
       "</div>"
      ],
      "text/plain": [
       "            Model_Name  Accuracy  AUC Score  Precision   Recall  F1-Score\n",
       "0  Logistic Regression  0.928571   0.921935   0.983871 0.897059  0.938462"
      ]
     },
     "execution_count": 96,
     "metadata": {},
     "output_type": "execute_result"
    }
   ],
   "source": [
    "update_score_card(algorithm_name = 'Logistic Regression', model = logreg)\n",
    "score_card"
   ]
  },
  {
   "cell_type": "markdown",
   "metadata": {},
   "source": [
    "### <span style=\"color:Blue;font-size:1.4em;\"><b>Feature selection using RFE</b></span> "
   ]
  },
  {
   "cell_type": "code",
   "execution_count": 107,
   "metadata": {},
   "outputs": [],
   "source": [
    "from sklearn.feature_selection import RFE"
   ]
  },
  {
   "cell_type": "code",
   "execution_count": 108,
   "metadata": {},
   "outputs": [
    {
     "name": "stdout",
     "output_type": "stream",
     "text": [
      "Index(['M/F', 'EDUC', 'SES', 'ASF', 'MMSE', 'CDR'], dtype='object')\n"
     ]
    }
   ],
   "source": [
    "X=df.drop([\"Group\"],axis=1)\n",
    "y=df[\"Group\"]\n",
    "\n",
    "X_train, X_test, y_train, y_test = train_test_split(X, y, test_size = 0.30, random_state = 10)\n",
    "\n",
    "linreg_rfe = LogisticRegression()\n",
    "\n",
    "rfe_model = RFE(estimator=linreg_rfe, n_features_to_select = 6)\n",
    "\n",
    "rfe_model = rfe_model.fit(X_train, y_train)\n",
    "\n",
    "feat_index = pd.Series(data = rfe_model.ranking_, index = X_train.columns)\n",
    "\n",
    "signi_feat_rfe = feat_index[feat_index==1].index\n",
    "\n",
    "print(signi_feat_rfe)"
   ]
  },
  {
   "cell_type": "code",
   "execution_count": 109,
   "metadata": {},
   "outputs": [],
   "source": [
    "X2=df[['EDUC', 'SES', 'nWBV', 'ASF', 'MMSE', 'CDR']]\n",
    "y2=df[\"Group\"]\n",
    "X2=sm.add_constant(X2)\n"
   ]
  },
  {
   "cell_type": "code",
   "execution_count": 110,
   "metadata": {},
   "outputs": [],
   "source": [
    "X_train,X_test,y_train,y_test=train_test_split(X2,y2,test_size=0.3)"
   ]
  },
  {
   "cell_type": "code",
   "execution_count": 111,
   "metadata": {},
   "outputs": [
    {
     "name": "stdout",
     "output_type": "stream",
     "text": [
      "Optimization terminated successfully.\n",
      "         Current function value: 0.170716\n",
      "         Iterations 11\n"
     ]
    },
    {
     "data": {
      "text/html": [
       "<table class=\"simpletable\">\n",
       "<caption>Logit Regression Results</caption>\n",
       "<tr>\n",
       "  <th>Dep. Variable:</th>         <td>Group</td>      <th>  No. Observations:  </th>  <td>   261</td>  \n",
       "</tr>\n",
       "<tr>\n",
       "  <th>Model:</th>                 <td>Logit</td>      <th>  Df Residuals:      </th>  <td>   254</td>  \n",
       "</tr>\n",
       "<tr>\n",
       "  <th>Method:</th>                 <td>MLE</td>       <th>  Df Model:          </th>  <td>     6</td>  \n",
       "</tr>\n",
       "<tr>\n",
       "  <th>Date:</th>            <td>Sun, 04 Apr 2021</td> <th>  Pseudo R-squ.:     </th>  <td>0.7531</td>  \n",
       "</tr>\n",
       "<tr>\n",
       "  <th>Time:</th>                <td>12:18:05</td>     <th>  Log-Likelihood:    </th> <td> -44.557</td> \n",
       "</tr>\n",
       "<tr>\n",
       "  <th>converged:</th>             <td>True</td>       <th>  LL-Null:           </th> <td> -180.48</td> \n",
       "</tr>\n",
       "<tr>\n",
       "  <th>Covariance Type:</th>     <td>nonrobust</td>    <th>  LLR p-value:       </th> <td>8.735e-56</td>\n",
       "</tr>\n",
       "</table>\n",
       "<table class=\"simpletable\">\n",
       "<tr>\n",
       "    <td></td>       <th>coef</th>     <th>std err</th>      <th>z</th>      <th>P>|z|</th>  <th>[0.025</th>    <th>0.975]</th>  \n",
       "</tr>\n",
       "<tr>\n",
       "  <th>const</th> <td>   16.3051</td> <td>    9.952</td> <td>    1.638</td> <td> 0.101</td> <td>   -3.201</td> <td>   35.811</td>\n",
       "</tr>\n",
       "<tr>\n",
       "  <th>EDUC</th>  <td>   -0.3457</td> <td>    0.154</td> <td>   -2.252</td> <td> 0.024</td> <td>   -0.647</td> <td>   -0.045</td>\n",
       "</tr>\n",
       "<tr>\n",
       "  <th>SES</th>   <td>   -1.3365</td> <td>    0.400</td> <td>   -3.342</td> <td> 0.001</td> <td>   -2.120</td> <td>   -0.553</td>\n",
       "</tr>\n",
       "<tr>\n",
       "  <th>nWBV</th>  <td>  -10.4000</td> <td>    8.337</td> <td>   -1.247</td> <td> 0.212</td> <td>  -26.741</td> <td>    5.941</td>\n",
       "</tr>\n",
       "<tr>\n",
       "  <th>ASF</th>   <td>    6.8745</td> <td>    2.412</td> <td>    2.851</td> <td> 0.004</td> <td>    2.148</td> <td>   11.601</td>\n",
       "</tr>\n",
       "<tr>\n",
       "  <th>MMSE</th>  <td>   -2.0266</td> <td>    3.555</td> <td>   -0.570</td> <td> 0.569</td> <td>   -8.994</td> <td>    4.941</td>\n",
       "</tr>\n",
       "<tr>\n",
       "  <th>CDR</th>   <td>   -7.3660</td> <td>    1.112</td> <td>   -6.624</td> <td> 0.000</td> <td>   -9.545</td> <td>   -5.187</td>\n",
       "</tr>\n",
       "</table>"
      ],
      "text/plain": [
       "<class 'statsmodels.iolib.summary.Summary'>\n",
       "\"\"\"\n",
       "                           Logit Regression Results                           \n",
       "==============================================================================\n",
       "Dep. Variable:                  Group   No. Observations:                  261\n",
       "Model:                          Logit   Df Residuals:                      254\n",
       "Method:                           MLE   Df Model:                            6\n",
       "Date:                Sun, 04 Apr 2021   Pseudo R-squ.:                  0.7531\n",
       "Time:                        12:18:05   Log-Likelihood:                -44.557\n",
       "converged:                       True   LL-Null:                       -180.48\n",
       "Covariance Type:            nonrobust   LLR p-value:                 8.735e-56\n",
       "==============================================================================\n",
       "                 coef    std err          z      P>|z|      [0.025      0.975]\n",
       "------------------------------------------------------------------------------\n",
       "const         16.3051      9.952      1.638      0.101      -3.201      35.811\n",
       "EDUC          -0.3457      0.154     -2.252      0.024      -0.647      -0.045\n",
       "SES           -1.3365      0.400     -3.342      0.001      -2.120      -0.553\n",
       "nWBV         -10.4000      8.337     -1.247      0.212     -26.741       5.941\n",
       "ASF            6.8745      2.412      2.851      0.004       2.148      11.601\n",
       "MMSE          -2.0266      3.555     -0.570      0.569      -8.994       4.941\n",
       "CDR           -7.3660      1.112     -6.624      0.000      -9.545      -5.187\n",
       "==============================================================================\n",
       "\"\"\""
      ]
     },
     "execution_count": 111,
     "metadata": {},
     "output_type": "execute_result"
    }
   ],
   "source": [
    "\n",
    "logreg=sm.Logit(y_train,X_train).fit()\n",
    "logreg.summary()"
   ]
  },
  {
   "cell_type": "code",
   "execution_count": 112,
   "metadata": {},
   "outputs": [],
   "source": [
    "y_pred=logreg.predict(X_test)"
   ]
  },
  {
   "cell_type": "code",
   "execution_count": 117,
   "metadata": {},
   "outputs": [
    {
     "name": "stdout",
     "output_type": "stream",
     "text": [
      "Correctly classified : 96.42857142857143\n"
     ]
    }
   ],
   "source": [
    "correct=(TN+TP)/(TN+TP+FP+FN)\n",
    "print(\"Correctly classified :\",correct*100)"
   ]
  },
  {
   "cell_type": "code",
   "execution_count": 118,
   "metadata": {},
   "outputs": [
    {
     "name": "stdout",
     "output_type": "stream",
     "text": [
      "In_Correctly classified : 3.571428571428571\n"
     ]
    }
   ],
   "source": [
    "in_correct=(FN+FP)/(TN+TP+FP+FN)\n",
    "print(\"In_Correctly classified :\",in_correct*100)"
   ]
  },
  {
   "cell_type": "code",
   "execution_count": 119,
   "metadata": {},
   "outputs": [
    {
     "data": {
      "text/html": [
       "<div>\n",
       "<style scoped>\n",
       "    .dataframe tbody tr th:only-of-type {\n",
       "        vertical-align: middle;\n",
       "    }\n",
       "\n",
       "    .dataframe tbody tr th {\n",
       "        vertical-align: top;\n",
       "    }\n",
       "\n",
       "    .dataframe thead th {\n",
       "        text-align: right;\n",
       "    }\n",
       "</style>\n",
       "<table border=\"1\" class=\"dataframe\">\n",
       "  <thead>\n",
       "    <tr style=\"text-align: right;\">\n",
       "      <th></th>\n",
       "      <th>Model_Name</th>\n",
       "      <th>Accuracy</th>\n",
       "      <th>AUC Score</th>\n",
       "      <th>Precision</th>\n",
       "      <th>Recall</th>\n",
       "      <th>F1-Score</th>\n",
       "    </tr>\n",
       "  </thead>\n",
       "  <tbody>\n",
       "    <tr>\n",
       "      <td>0</td>\n",
       "      <td>Logistic Regression</td>\n",
       "      <td>0.928571</td>\n",
       "      <td>0.921935</td>\n",
       "      <td>0.983871</td>\n",
       "      <td>0.897059</td>\n",
       "      <td>0.938462</td>\n",
       "    </tr>\n",
       "    <tr>\n",
       "      <td>1</td>\n",
       "      <td>Logistic Regression -Significant Variables</td>\n",
       "      <td>0.955357</td>\n",
       "      <td>0.948946</td>\n",
       "      <td>0.984848</td>\n",
       "      <td>0.942029</td>\n",
       "      <td>0.962963</td>\n",
       "    </tr>\n",
       "    <tr>\n",
       "      <td>2</td>\n",
       "      <td>Logistic Regression -RFE</td>\n",
       "      <td>0.964286</td>\n",
       "      <td>0.966667</td>\n",
       "      <td>1.000000</td>\n",
       "      <td>0.928571</td>\n",
       "      <td>0.962963</td>\n",
       "    </tr>\n",
       "  </tbody>\n",
       "</table>\n",
       "</div>"
      ],
      "text/plain": [
       "                                   Model_Name  Accuracy  AUC Score  Precision  \\\n",
       "0                         Logistic Regression  0.928571   0.921935   0.983871   \n",
       "1  Logistic Regression -Significant Variables  0.955357   0.948946   0.984848   \n",
       "2                    Logistic Regression -RFE  0.964286   0.966667   1.000000   \n",
       "\n",
       "    Recall  F1-Score  \n",
       "0 0.897059  0.938462  \n",
       "1 0.942029  0.962963  \n",
       "2 0.928571  0.962963  "
      ]
     },
     "execution_count": 119,
     "metadata": {},
     "output_type": "execute_result"
    }
   ],
   "source": [
    "update_score_card(algorithm_name = 'Logistic Regression -RFE', model = logreg)\n",
    "\n",
    "score_card"
   ]
  },
  {
   "cell_type": "markdown",
   "metadata": {},
   "source": [
    "### <span style=\"color:Blue;font-size:1.4em;\"><b>Naive Bayes Classifier</b></span> "
   ]
  },
  {
   "cell_type": "markdown",
   "metadata": {},
   "source": [
    "\n",
    "\n",
    "### <span style=\"color:blue;font-size:1.4em;\"><b> Classification Report</b> </span> "
   ]
  },
  {
   "cell_type": "code",
   "execution_count": 123,
   "metadata": {},
   "outputs": [
    {
     "name": "stdout",
     "output_type": "stream",
     "text": [
      "              precision    recall  f1-score   support\n",
      "\n",
      "           0       0.93      1.00      0.96        52\n",
      "           1       1.00      0.93      0.97        60\n",
      "\n",
      "    accuracy                           0.96       112\n",
      "   macro avg       0.96      0.97      0.96       112\n",
      "weighted avg       0.97      0.96      0.96       112\n",
      "\n"
     ]
    }
   ],
   "source": [
    "cm=classification_report(y_test,y_pred)\n",
    "print(cm)"
   ]
  },
  {
   "cell_type": "code",
   "execution_count": 124,
   "metadata": {},
   "outputs": [
    {
     "data": {
      "image/png": "[encoded data removed]",
      "text/plain": [
       "<Figure size 1080x576 with 1 Axes>"
      ]
     },
     "metadata": {
      "needs_background": "light"
     },
     "output_type": "display_data"
    }
   ],
   "source": [
    "plot_confusion_matrix(gnb_model)"
   ]
  },
  {
   "cell_type": "code",
   "execution_count": 126,
   "metadata": {},
   "outputs": [],
   "source": [
    "cm = confusion_matrix(y_pred,y_test)\n",
    "TP=cm[0,0]\n",
    "TN=cm[1,1]\n",
    "FP=cm[1,0]\n",
    "FN=cm[0,1]\n",
    "\n",
    "acc = (TN+TP)/(TN+FP+TP+FN)\n",
    "precision = TP / (TP+FP)\n",
    "recall = TP / (TP+FN)\n",
    "specificity = TN / (TN+FP)\n",
    "f1_score = 2*((precision*recall)/(precision+recall))"
   ]
  },
  {
   "cell_type": "code",
   "execution_count": 127,
   "metadata": {},
   "outputs": [
    {
     "data": {
      "text/html": [
       "<div>\n",
       "<style scoped>\n",
       "    .dataframe tbody tr th:only-of-type {\n",
       "        vertical-align: middle;\n",
       "    }\n",
       "\n",
       "    .dataframe tbody tr th {\n",
       "        vertical-align: top;\n",
       "    }\n",
       "\n",
       "    .dataframe thead th {\n",
       "        text-align: right;\n",
       "    }\n",
       "</style>\n",
       "<table border=\"1\" class=\"dataframe\">\n",
       "  <thead>\n",
       "    <tr style=\"text-align: right;\">\n",
       "      <th></th>\n",
       "      <th>Model_Name</th>\n",
       "      <th>Accuracy</th>\n",
       "      <th>AUC Score</th>\n",
       "      <th>Precision</th>\n",
       "      <th>Recall</th>\n",
       "      <th>F1-Score</th>\n",
       "    </tr>\n",
       "  </thead>\n",
       "  <tbody>\n",
       "    <tr>\n",
       "      <td>0</td>\n",
       "      <td>Logistic Regression</td>\n",
       "      <td>0.928571</td>\n",
       "      <td>0.921935</td>\n",
       "      <td>0.983871</td>\n",
       "      <td>0.897059</td>\n",
       "      <td>0.938462</td>\n",
       "    </tr>\n",
       "    <tr>\n",
       "      <td>1</td>\n",
       "      <td>Logistic Regression -Significant Variables</td>\n",
       "      <td>0.955357</td>\n",
       "      <td>0.948946</td>\n",
       "      <td>0.984848</td>\n",
       "      <td>0.942029</td>\n",
       "      <td>0.962963</td>\n",
       "    </tr>\n",
       "    <tr>\n",
       "      <td>2</td>\n",
       "      <td>Logistic Regression -RFE</td>\n",
       "      <td>0.964286</td>\n",
       "      <td>0.966667</td>\n",
       "      <td>1.000000</td>\n",
       "      <td>0.928571</td>\n",
       "      <td>0.962963</td>\n",
       "    </tr>\n",
       "    <tr>\n",
       "      <td>3</td>\n",
       "      <td>Naive Bayes</td>\n",
       "      <td>0.964286</td>\n",
       "      <td>0.966667</td>\n",
       "      <td>1.000000</td>\n",
       "      <td>0.928571</td>\n",
       "      <td>0.962963</td>\n",
       "    </tr>\n",
       "  </tbody>\n",
       "</table>\n",
       "</div>"
      ],
      "text/plain": [
       "                                   Model_Name  Accuracy  AUC Score  Precision  \\\n",
       "0                         Logistic Regression  0.928571   0.921935   0.983871   \n",
       "1  Logistic Regression -Significant Variables  0.955357   0.948946   0.984848   \n",
       "2                    Logistic Regression -RFE  0.964286   0.966667   1.000000   \n",
       "3                                 Naive Bayes  0.964286   0.966667   1.000000   \n",
       "\n",
       "    Recall  F1-Score  \n",
       "0 0.897059  0.938462  \n",
       "1 0.942029  0.962963  \n",
       "2 0.928571  0.962963  \n",
       "3 0.928571  0.962963  "
      ]
     },
     "execution_count": 127,
     "metadata": {},
     "output_type": "execute_result"
    }
   ],
   "source": [
    "update_score_card(algorithm_name = 'Naive Bayes', model = gnb_model)\n",
    "\n",
    "score_card"
   ]
  },
  {
   "cell_type": "markdown",
   "metadata": {},
   "source": [
    "### <span style=\"color:Blue;font-size:1.4em;\"><b>KNearest Neighbour Classifier</b></span> "
   ]
  },
  {
   "cell_type": "code",
   "execution_count": 128,
   "metadata": {},
   "outputs": [],
   "source": [
    "knn_classification = KNeighborsClassifier(n_neighbors = 3)\n",
    "knn_model = knn_classification.fit(X_train, y_train)"
   ]
  },
  {
   "cell_type": "code",
   "execution_count": 129,
   "metadata": {},
   "outputs": [],
   "source": [
    "y_pred=knn_model.predict(X_test)"
   ]
  },
  {
   "cell_type": "code",
   "execution_count": 130,
   "metadata": {},
   "outputs": [
    {
     "data": {
      "image/png": "[encoded data removed]",
      "text/plain": [
       "<Figure size 1080x576 with 1 Axes>"
      ]
     },
     "metadata": {
      "needs_background": "light"
     },
     "output_type": "display_data"
    }
   ],
   "source": [
    "plot_confusion_matrix(knn_model)"
   ]
  },
  {
   "cell_type": "code",
   "execution_count": 132,
   "metadata": {},
   "outputs": [],
   "source": [
    "cm = confusion_matrix(y_pred,y_test)\n",
    "TP=cm[0,0]\n",
    "TN=cm[1,1]\n",
    "FP=cm[1,0]\n",
    "FN=cm[0,1]\n",
    "\n",
    "acc = (TN+TP)/(TN+FP+TP+FN)\n",
    "precision = TP / (TP+FP)\n",
    "recall = TP / (TP+FN)\n",
    "specificity = TN / (TN+FP)\n",
    "f1_score = 2*((precision*recall)/(precision+recall))"
   ]
  },
  {
   "cell_type": "code",
   "execution_count": 133,
   "metadata": {},
   "outputs": [
    {
     "data": {
      "text/html": [
       "<div>\n",
       "<style scoped>\n",
       "    .dataframe tbody tr th:only-of-type {\n",
       "        vertical-align: middle;\n",
       "    }\n",
       "\n",
       "    .dataframe tbody tr th {\n",
       "        vertical-align: top;\n",
       "    }\n",
       "\n",
       "    .dataframe thead th {\n",
       "        text-align: right;\n",
       "    }\n",
       "</style>\n",
       "<table border=\"1\" class=\"dataframe\">\n",
       "  <thead>\n",
       "    <tr style=\"text-align: right;\">\n",
       "      <th></th>\n",
       "      <th>Model_Name</th>\n",
       "      <th>Accuracy</th>\n",
       "      <th>AUC Score</th>\n",
       "      <th>Precision</th>\n",
       "      <th>Recall</th>\n",
       "      <th>F1-Score</th>\n",
       "    </tr>\n",
       "  </thead>\n",
       "  <tbody>\n",
       "    <tr>\n",
       "      <td>0</td>\n",
       "      <td>Logistic Regression</td>\n",
       "      <td>0.928571</td>\n",
       "      <td>0.921935</td>\n",
       "      <td>0.983871</td>\n",
       "      <td>0.897059</td>\n",
       "      <td>0.938462</td>\n",
       "    </tr>\n",
       "    <tr>\n",
       "      <td>1</td>\n",
       "      <td>Logistic Regression -Significant Variables</td>\n",
       "      <td>0.955357</td>\n",
       "      <td>0.948946</td>\n",
       "      <td>0.984848</td>\n",
       "      <td>0.942029</td>\n",
       "      <td>0.962963</td>\n",
       "    </tr>\n",
       "    <tr>\n",
       "      <td>2</td>\n",
       "      <td>Logistic Regression -RFE</td>\n",
       "      <td>0.964286</td>\n",
       "      <td>0.966667</td>\n",
       "      <td>1.000000</td>\n",
       "      <td>0.928571</td>\n",
       "      <td>0.962963</td>\n",
       "    </tr>\n",
       "    <tr>\n",
       "      <td>3</td>\n",
       "      <td>Naive Bayes</td>\n",
       "      <td>0.964286</td>\n",
       "      <td>0.966667</td>\n",
       "      <td>1.000000</td>\n",
       "      <td>0.928571</td>\n",
       "      <td>0.962963</td>\n",
       "    </tr>\n",
       "    <tr>\n",
       "      <td>4</td>\n",
       "      <td>KNN</td>\n",
       "      <td>0.892857</td>\n",
       "      <td>0.893590</td>\n",
       "      <td>0.903846</td>\n",
       "      <td>0.870370</td>\n",
       "      <td>0.886792</td>\n",
       "    </tr>\n",
       "  </tbody>\n",
       "</table>\n",
       "</div>"
      ],
      "text/plain": [
       "                                   Model_Name  Accuracy  AUC Score  Precision  \\\n",
       "0                         Logistic Regression  0.928571   0.921935   0.983871   \n",
       "1  Logistic Regression -Significant Variables  0.955357   0.948946   0.984848   \n",
       "2                    Logistic Regression -RFE  0.964286   0.966667   1.000000   \n",
       "3                                 Naive Bayes  0.964286   0.966667   1.000000   \n",
       "4                                        KNN   0.892857   0.893590   0.903846   \n",
       "\n",
       "    Recall  F1-Score  \n",
       "0 0.897059  0.938462  \n",
       "1 0.942029  0.962963  \n",
       "2 0.928571  0.962963  \n",
       "3 0.928571  0.962963  \n",
       "4 0.870370  0.886792  "
      ]
     },
     "execution_count": 133,
     "metadata": {},
     "output_type": "execute_result"
    }
   ],
   "source": [
    "update_score_card(algorithm_name = 'KNN ', model = knn_model)\n",
    "\n",
    "score_card"
   ]
  },
  {
   "cell_type": "markdown",
   "metadata": {},
   "source": [
    "\n",
    "### <span style=\"color:Blue;font-size:1.4em;\"><b>  Gradient Boosting </b></span> "
   ]
  },
  {
   "cell_type": "code",
   "execution_count": 180,
   "metadata": {},
   "outputs": [
    {
     "data": {
      "text/plain": [
       "GradientBoostingClassifier(max_depth=10, n_estimators=150, random_state=10)"
      ]
     },
     "execution_count": 180,
     "metadata": {},
     "output_type": "execute_result"
    }
   ],
   "source": [
    "gboost_model = GradientBoostingClassifier(n_estimators = 150, max_depth = 10, random_state = 10)\n",
    "\n",
    "gboost_model.fit(X_train, y_train)"
   ]
  },
  {
   "cell_type": "code",
   "execution_count": 181,
   "metadata": {},
   "outputs": [],
   "source": [
    "y_pred=gboost_model.predict(X_test)"
   ]
  },
  {
   "cell_type": "code",
   "execution_count": 182,
   "metadata": {},
   "outputs": [
    {
     "data": {
      "image/png": "[encoded data removed]",
      "text/plain": [
       "<Figure size 1080x576 with 1 Axes>"
      ]
     },
     "metadata": {
      "needs_background": "light"
     },
     "output_type": "display_data"
    }
   ],
   "source": [
    "plot_confusion_matrix(gboost_model)"
   ]
  },
  {
   "cell_type": "markdown",
   "metadata": {},
   "source": [
    "\n",
    "### <span style=\"color:blue;font-size:1.4em;\"><b> Classification Report</b> </span> "
   ]
  },
  {
   "cell_type": "code",
   "execution_count": 183,
   "metadata": {},
   "outputs": [
    {
     "name": "stdout",
     "output_type": "stream",
     "text": [
      "              precision    recall  f1-score   support\n",
      "\n",
      "           0       0.96      0.94      0.95        52\n",
      "           1       0.95      0.97      0.96        60\n",
      "\n",
      "    accuracy                           0.96       112\n",
      "   macro avg       0.96      0.95      0.96       112\n",
      "weighted avg       0.96      0.96      0.96       112\n",
      "\n"
     ]
    }
   ],
   "source": [
    "test_report = get_test_report(gboost_model)\n",
    "\n",
    "print(test_report)"
   ]
  },
  {
   "cell_type": "markdown",
   "metadata": {},
   "source": [
    "\n",
    "### <span style=\"color:Blue;font-size:1.4em;\"><b>  XGBOOST </b></span> "
   ]
  },
  {
   "cell_type": "code",
   "execution_count": 187,
   "metadata": {},
   "outputs": [
    {
     "data": {
      "text/plain": [
       "XGBClassifier(gamma=1, max_depth=10)"
      ]
     },
     "execution_count": 187,
     "metadata": {},
     "output_type": "execute_result"
    }
   ],
   "source": [
    "xgb_model = XGBClassifier(max_depth = 10, gamma = 1)\n",
    "\n",
    "xgb_model.fit(X_train, y_train)"
   ]
  },
  {
   "cell_type": "code",
   "execution_count": 188,
   "metadata": {},
   "outputs": [],
   "source": [
    "y_pred=xgb_model.predict(X_test)"
   ]
  },
  {
   "cell_type": "code",
   "execution_count": 189,
   "metadata": {},
   "outputs": [
    {
     "data": {
      "image/png": "[encoded data removed]",
      "text/plain": [
       "<Figure size 1080x576 with 1 Axes>"
      ]
     },
     "metadata": {
      "needs_background": "light"
     },
     "output_type": "display_data"
    }
   ],
   "source": [
    "\n",
    "plot_confusion_matrix(xgb_model)"
   ]
  }
 ],
 "metadata": {
  "kernelspec": {
   "display_name": "Python 3",
   "language": "python",
   "name": "python3"
  },
  "language_info": {
   "codemirror_mode": {
    "name": "ipython",
    "version": 3
   },
   "file_extension": ".py",
   "mimetype": "text/x-python",
   "name": "python",
   "nbconvert_exporter": "python",
   "pygments_lexer": "ipython3",
   "version": "3.8.8"
  }
 },
 "nbformat": 4,
 "nbformat_minor": 4
}
